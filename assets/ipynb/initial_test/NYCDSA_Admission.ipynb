{
 "cells": [
  {
   "cell_type": "markdown",
   "metadata": {},
   "source": [
    "Question 1."
   ]
  },
  {
   "cell_type": "raw",
   "metadata": {},
   "source": [
    "I personally think this project can be \n",
    "while model==False:\n",
    "    First, obtain color codes. I want to have dataset such as (pixel number, RGB color code)\n",
    "    Second, apply clustering algorithms such as SVM to color codes\n",
    "    Third, take a subset of color codes and manually determine whether particular pixel belongs to a river.\n",
    "    Fourth, revisualize the pixel that I thought belonged to the river and compare with initial picture\n",
    "    if close enough\n",
    "        model == True\n",
    "    else \n",
    "        model ==False \n",
    "        change model (i.e. different clustering algorithm or different kernels)"
   ]
  },
  {
   "cell_type": "markdown",
   "metadata": {},
   "source": [
    "Question 2. "
   ]
  },
  {
   "cell_type": "code",
   "execution_count": 3,
   "metadata": {},
   "outputs": [],
   "source": [
    "%matplotlib inline\n",
    "\n",
    "import matplotlib\n",
    "import numpy as np\n",
    "import matplotlib.pyplot as plt\n",
    "\n",
    "class Ledger:\n",
    "    def __init__(self):\n",
    "        self.tot_order = {}\n",
    "    def add(self, lst):\n",
    "        tmp = [lst[x].split(\":\") for x in range(len(day_i))]\n",
    "        while tmp!=[]:\n",
    "            if tmp[0][0] not in self.tot_order:\n",
    "                self.tot_order[tmp[0][0]]=int(tmp[0][1])\n",
    "                del tmp[0]\n",
    "            else:\n",
    "                self.tot_order[tmp[0][0]]+=int(tmp[0][1])\n",
    "                del tmp[0]\n",
    "    def printer(self,x=None):\n",
    "        if x==None:\n",
    "            print(self.tot_order)\n",
    "        elif x in self.tot_order.keys():\n",
    "            print(f'{x} :', self.tot_order[x])\n",
    "        else:\n",
    "            print('No recorded customer named, {}'.format(x))"
   ]
  },
  {
   "cell_type": "code",
   "execution_count": 2,
   "metadata": {},
   "outputs": [
    {
     "name": "stdout",
     "output_type": "stream",
     "text": [
      "{'Bob': 1200, 'Alice': 2500, 'Celia': 110}\n",
      "{'Bob': 2400, 'Alice': 5000, 'Celia': 110, 'Cecelia': 110}\n",
      "Alice : 5000\n",
      "No recorded customer named, Box\n"
     ]
    }
   ],
   "source": [
    "my_ledger=Ledger()\n",
    "day_i = [\"Bob:1200\", \"Alice:2500\", \"Celia:110\"]\n",
    "day_ii = [\"Bob:1200\", \"Alice:2500\", \"Cecelia:110\"]\n",
    "my_ledger.add(day_i)\n",
    "my_ledger.printer()\n",
    "my_ledger.add(day_ii)\n",
    "my_ledger.printer()\n",
    "my_ledger.printer(\"Alice\")\n",
    "my_ledger.printer(\"Box\")\n"
   ]
  },
  {
   "cell_type": "markdown",
   "metadata": {},
   "source": [
    "Question 3."
   ]
  },
  {
   "cell_type": "code",
   "execution_count": null,
   "metadata": {},
   "outputs": [
    {
     "name": "stdout",
     "output_type": "stream",
     "text": [
      "75\n",
      "74\n",
      "no\n"
     ]
    }
   ],
   "source": [
    "import numpy as np\n",
    "number = np.random.randint(100)\n",
    "print(number)\n",
    "guess = False\n",
    "try: \n",
    "    while not guess:\n",
    "        spec = int(input())\n",
    "        if number == spec:\n",
    "            print(\"yes\")\n",
    "            guess = True\n",
    "        else:\n",
    "            print(\"no\")\n",
    "except ValueError:\n",
    "    print(\"We are talking about integer\")"
   ]
  },
  {
   "cell_type": "markdown",
   "metadata": {},
   "source": [
    "Question 4."
   ]
  },
  {
   "cell_type": "raw",
   "metadata": {},
   "source": [
    "1. practical rather than theoretical. I find mathematical details of widespread machine learning models to be accessible. I can grab any book on the topic and understand it well. However, I find it difficult to visualize data set, implement the models (actual coding part) for different data sets, and comparing different models. Also, I am currently interested in topics such as Hadoop and SQL, much more than rigorous mathematics. These seem to be the focus of the NYCDSA.\n",
    "\n",
    "2. hands-on learning. I encountered one good example of the difficulty, I face when I try to implement codes by myself. While watching scrapy lecture, I tried to install the library. However, pip install Scrapy failed due to some failures with the twisted library. I googled, tried different versions of python virtual environments, conda install. However, I still could not pip install scrapy. I need feedbacks to learn practical materials.\n",
    "\n",
    "3. group learning. I may slack when I have to study by myself. However, when I study with groups, I exert a lot of efforts\n",
    "\n",
    "4. I heard people are talking about D3.js. It would be nice to incorporate the topic in the curriculum.\n",
    "\n"
   ]
  },
  {
   "cell_type": "code",
   "execution_count": null,
   "metadata": {},
   "outputs": [],
   "source": []
  }
 ],
 "metadata": {
  "kernelspec": {
   "display_name": "Python 3",
   "language": "python",
   "name": "python3"
  },
  "language_info": {
   "codemirror_mode": {
    "name": "ipython",
    "version": 3
   },
   "file_extension": ".py",
   "mimetype": "text/x-python",
   "name": "python",
   "nbconvert_exporter": "python",
   "pygments_lexer": "ipython3",
   "version": "3.6.8"
  }
 },
 "nbformat": 4,
 "nbformat_minor": 2
}
